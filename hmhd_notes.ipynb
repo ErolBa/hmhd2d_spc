{
 "cells": [
  {
   "cell_type": "markdown",
   "metadata": {},
   "source": [
    "### How HMHD works\n",
    "\n",
    "HMHD2d evolves the following equations\n",
    "- mom\n",
    "- pre\n",
    "- den\n",
    "- psi\n",
    "- by\n"
   ]
  },
  {
   "cell_type": "code",
   "execution_count": null,
   "metadata": {},
   "outputs": [],
   "source": [
    "subroutine step\n",
    "  ...\n",
    "\n",
    "    ! Trapezoidal Leapfrog \n",
    "  ns=1\n",
    "  time_i(0)=time+half*dt\n",
    "  time_i(1)=time+dt\n",
    "  \n",
    "  do f=0, ns\n",
    "  \n",
    "    call smom2(f)\n",
    "    call spre2(f)\n",
    "    call sden2(f)\n",
    "    call spsi2(f)\n",
    "    call sby2(f)\n",
    "    \n",
    "    time=time_i(f)\n",
    "    call fin\n",
    "\n",
    "  end do\n",
    "  return\n",
    "end subroutine stepc\n"
   ]
  },
  {
   "cell_type": "markdown",
   "metadata": {},
   "source": []
  }
 ],
 "metadata": {
  "kernelspec": {
   "display_name": "Python 3.10.8 64-bit",
   "language": "python",
   "name": "python3"
  },
  "language_info": {
   "codemirror_mode": {
    "name": "ipython",
    "version": 3
   },
   "file_extension": ".py",
   "mimetype": "text/x-python",
   "name": "python",
   "nbconvert_exporter": "python",
   "pygments_lexer": "ipython3",
   "version": "3.10.8"
  },
  "orig_nbformat": 4,
  "vscode": {
   "interpreter": {
    "hash": "31f2aee4e71d21fbe5cf8b01ff0e069b9275f58929596ceb00d14d90e3e16cd6"
   }
  }
 },
 "nbformat": 4,
 "nbformat_minor": 2
}
